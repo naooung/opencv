{
 "cells": [
  {
   "cell_type": "markdown",
   "id": "ad154541-1db4-4184-bc90-ee07061be831",
   "metadata": {},
   "source": [
    "### 2.2 Numpy 배열(ndarray)"
   ]
  },
  {
   "cell_type": "code",
   "execution_count": 3,
   "id": "c2e44415-f20e-4f18-b1a5-b221b482eceb",
   "metadata": {},
   "outputs": [
    {
     "name": "stdout",
     "output_type": "stream",
     "text": [
      "<class 'numpy.ndarray'>\n"
     ]
    }
   ],
   "source": [
    "import cv2\n",
    "img = cv2.imread('images/read_color.jpg')\n",
    "print(type(img))"
   ]
  },
  {
   "cell_type": "code",
   "execution_count": 5,
   "id": "4bb9a822-f257-4849-bea2-ab8520149a6a",
   "metadata": {},
   "outputs": [
    {
     "data": {
      "text/plain": [
       "array([[[187, 132,  87],\n",
       "        [187, 132,  87],\n",
       "        [187, 132,  87],\n",
       "        ...,\n",
       "        [161,  94,  55],\n",
       "        [161,  94,  55],\n",
       "        [161,  94,  55]],\n",
       "\n",
       "       [[187, 132,  87],\n",
       "        [187, 132,  87],\n",
       "        [187, 132,  87],\n",
       "        ...,\n",
       "        [161,  94,  55],\n",
       "        [161,  94,  55],\n",
       "        [161,  94,  55]],\n",
       "\n",
       "       [[187, 132,  87],\n",
       "        [187, 132,  87],\n",
       "        [187, 132,  87],\n",
       "        ...,\n",
       "        [161,  94,  55],\n",
       "        [161,  94,  55],\n",
       "        [161,  94,  55]],\n",
       "\n",
       "       ...,\n",
       "\n",
       "       [[ 51,  64,  56],\n",
       "        [ 51,  64,  56],\n",
       "        [ 42,  55,  47],\n",
       "        ...,\n",
       "        [145, 149, 150],\n",
       "        [162, 166, 167],\n",
       "        [161, 165, 166]],\n",
       "\n",
       "       [[ 31,  50,  41],\n",
       "        [ 35,  56,  47],\n",
       "        [ 28,  53,  43],\n",
       "        ...,\n",
       "        [152, 155, 159],\n",
       "        [163, 166, 170],\n",
       "        [155, 158, 162]],\n",
       "\n",
       "       [[ 22,  46,  36],\n",
       "        [ 16,  43,  33],\n",
       "        [ 19,  51,  40],\n",
       "        ...,\n",
       "        [151, 154, 159],\n",
       "        [147, 150, 155],\n",
       "        [157, 160, 165]]], shape=(300, 400, 3), dtype=uint8)"
      ]
     },
     "execution_count": 5,
     "metadata": {},
     "output_type": "execute_result"
    }
   ],
   "source": [
    "img"
   ]
  },
  {
   "cell_type": "code",
   "execution_count": 4,
   "id": "d470ddba-a921-4296-9a69-d5ed21561ff2",
   "metadata": {},
   "outputs": [
    {
     "name": "stdout",
     "output_type": "stream",
     "text": [
      "3\n",
      "(300, 400, 3)\n",
      "360000\n",
      "uint8\n",
      "1\n"
     ]
    }
   ],
   "source": [
    "print(img.ndim) #차원의 수\n",
    "print(img.shape) # 각 차원의 크기(튜플) = 픽셀의 개수 (300 * 400, RGB)\n",
    "print(img.size) # 전체 이미지의 크기(bytes)\n",
    "print(img.dtype) # 요소의 데이터 타입\n",
    "print(img.itemsize) # 각 요소의 바이트 크기"
   ]
  },
  {
   "cell_type": "markdown",
   "id": "c0ecefdb-2789-44cb-88d0-5e891816f331",
   "metadata": {},
   "source": [
    "### 2.3 Numpy 객체 만들기"
   ]
  },
  {
   "cell_type": "code",
   "execution_count": 7,
   "id": "f5940d1e-f06c-4a4e-9edb-3e0301e00373",
   "metadata": {},
   "outputs": [
    {
     "data": {
      "text/plain": [
       "array([1, 2, 3, 4])"
      ]
     },
     "execution_count": 7,
     "metadata": {},
     "output_type": "execute_result"
    }
   ],
   "source": [
    "import numpy as np # Numpy를 사용할 때 통상적으로 이렇게 np로 줄여서 사용한다.\n",
    "a = np.array([1,2,3,4])\n",
    "a"
   ]
  },
  {
   "cell_type": "code",
   "execution_count": 8,
   "id": "071d6626-1fe9-4bd6-9e53-f4f93c679e50",
   "metadata": {},
   "outputs": [
    {
     "data": {
      "text/plain": [
       "dtype('int64')"
      ]
     },
     "execution_count": 8,
     "metadata": {},
     "output_type": "execute_result"
    }
   ],
   "source": [
    "a.dtype"
   ]
  },
  {
   "cell_type": "code",
   "execution_count": 9,
   "id": "29f52557-604b-430a-8b2a-19ea09dbaa91",
   "metadata": {},
   "outputs": [
    {
     "data": {
      "text/plain": [
       "array([1.  , 2.  , 3.14, 4.  ])"
      ]
     },
     "execution_count": 9,
     "metadata": {},
     "output_type": "execute_result"
    }
   ],
   "source": [
    "a = np.array([1, 2, 3.14, 4]) # 하나라도 실수가 있다면 실수 배열 생성\n",
    "a"
   ]
  },
  {
   "cell_type": "code",
   "execution_count": 10,
   "id": "b0311b66-fecf-4188-ab49-654d2297b6df",
   "metadata": {},
   "outputs": [
    {
     "data": {
      "text/plain": [
       "dtype('float64')"
      ]
     },
     "execution_count": 10,
     "metadata": {},
     "output_type": "execute_result"
    }
   ],
   "source": [
    "a.dtype"
   ]
  },
  {
   "cell_type": "code",
   "execution_count": 11,
   "id": "183450ce-7f32-401b-9f55-7f5598f25976",
   "metadata": {},
   "outputs": [
    {
     "data": {
      "text/plain": [
       "(4,)"
      ]
     },
     "execution_count": 11,
     "metadata": {},
     "output_type": "execute_result"
    }
   ],
   "source": [
    "a.shape # 1행4열 - 일차원 배열의 차원은 ,가 붙어서 출력"
   ]
  },
  {
   "cell_type": "code",
   "execution_count": 12,
   "id": "27294cf4-5c5e-4c9c-bddf-806b6f895b5e",
   "metadata": {},
   "outputs": [
    {
     "data": {
      "text/plain": [
       "array([[1, 2, 3, 4],\n",
       "       [5, 6, 7, 8]])"
      ]
     },
     "execution_count": 12,
     "metadata": {},
     "output_type": "execute_result"
    }
   ],
   "source": [
    "b = np.array([[1,2,3,4],[5,6,7,8]])\n",
    "b"
   ]
  },
  {
   "cell_type": "code",
   "execution_count": 13,
   "id": "9e51db8b-4d63-4c84-a6c8-0b613affc51d",
   "metadata": {},
   "outputs": [
    {
     "data": {
      "text/plain": [
       "(2, 4)"
      ]
     },
     "execution_count": 13,
     "metadata": {},
     "output_type": "execute_result"
    }
   ],
   "source": [
    "b.shape # 2행4열"
   ]
  },
  {
   "cell_type": "code",
   "execution_count": 14,
   "id": "709f5c90-db9e-4636-b331-85336b834951",
   "metadata": {},
   "outputs": [
    {
     "data": {
      "text/plain": [
       "array([[1],\n",
       "       [2],\n",
       "       [3],\n",
       "       [4]])"
      ]
     },
     "execution_count": 14,
     "metadata": {},
     "output_type": "execute_result"
    }
   ],
   "source": [
    "c = np.array([[1],[2],[3],[4]])\n",
    "c"
   ]
  },
  {
   "cell_type": "code",
   "execution_count": 15,
   "id": "9418e75a-65ac-4670-b7dd-69e78513e3a3",
   "metadata": {},
   "outputs": [
    {
     "data": {
      "text/plain": [
       "(4, 1)"
      ]
     },
     "execution_count": 15,
     "metadata": {},
     "output_type": "execute_result"
    }
   ],
   "source": [
    "c.shape # 4행1열"
   ]
  },
  {
   "cell_type": "code",
   "execution_count": 16,
   "id": "363653dd-2394-4a58-a46a-f34b1d58ddd5",
   "metadata": {},
   "outputs": [
    {
     "data": {
      "text/plain": [
       "array([[1, 2, 3, 4]])"
      ]
     },
     "execution_count": 16,
     "metadata": {},
     "output_type": "execute_result"
    }
   ],
   "source": [
    "d = np.array([[1, 2, 3, 4]])\n",
    "d"
   ]
  },
  {
   "cell_type": "code",
   "execution_count": 17,
   "id": "3e18b435-3ea5-4c32-a83d-62c7be6cc0a0",
   "metadata": {},
   "outputs": [
    {
     "data": {
      "text/plain": [
       "array([[1],\n",
       "       [2],\n",
       "       [3],\n",
       "       [4]])"
      ]
     },
     "execution_count": 17,
     "metadata": {},
     "output_type": "execute_result"
    }
   ],
   "source": [
    "d.T # 전치행렬"
   ]
  },
  {
   "cell_type": "code",
   "execution_count": 18,
   "id": "5f92c92e-4ed4-4ab2-9e18-2a542caf9caa",
   "metadata": {},
   "outputs": [
    {
     "data": {
      "text/plain": [
       "array([[0., 0., 0.],\n",
       "       [0., 0., 0.]])"
      ]
     },
     "execution_count": 18,
     "metadata": {},
     "output_type": "execute_result"
    }
   ],
   "source": [
    "a = np.empty((2,3)) # 환경에 따라서 0으로 채워지기도 하지만, prompt 상에서 실행\n",
    "a"
   ]
  },
  {
   "cell_type": "code",
   "execution_count": 19,
   "id": "d2506683-f0cc-4d00-832b-9d3aff77922b",
   "metadata": {},
   "outputs": [
    {
     "data": {
      "text/plain": [
       "dtype('float64')"
      ]
     },
     "execution_count": 19,
     "metadata": {},
     "output_type": "execute_result"
    }
   ],
   "source": [
    "a.dtype"
   ]
  },
  {
   "cell_type": "code",
   "execution_count": 20,
   "id": "ebb3bc82-8dea-4333-82ca-96e6ce371d31",
   "metadata": {},
   "outputs": [
    {
     "data": {
      "text/plain": [
       "array([[255., 255., 255.],\n",
       "       [255., 255., 255.]])"
      ]
     },
     "execution_count": 20,
     "metadata": {},
     "output_type": "execute_result"
    }
   ],
   "source": [
    "a.fill(255) # 주어진 값으로 채우지만, 원래 a가 float64이므로 실수형으로 채워짐. \n",
    "a"
   ]
  },
  {
   "cell_type": "code",
   "execution_count": 21,
   "id": "1de8647a-37cc-4190-816d-7c6b006df10d",
   "metadata": {},
   "outputs": [
    {
     "data": {
      "text/plain": [
       "array([[0., 0., 0.],\n",
       "       [0., 0., 0.]])"
      ]
     },
     "execution_count": 21,
     "metadata": {},
     "output_type": "execute_result"
    }
   ],
   "source": [
    "b = np.zeros((2,3)) # 실수로 생성되기 때문에 dtype 지정 필요\n",
    "b"
   ]
  },
  {
   "cell_type": "code",
   "execution_count": 22,
   "id": "921e55ae-0c06-4f00-873f-4ec0f16096f9",
   "metadata": {},
   "outputs": [
    {
     "data": {
      "text/plain": [
       "array([[0, 0, 0],\n",
       "       [0, 0, 0]], dtype=uint8)"
      ]
     },
     "execution_count": 22,
     "metadata": {},
     "output_type": "execute_result"
    }
   ],
   "source": [
    "c = np.zeros((2,3), dtype=np.uint8) # 이미지의 픽셀은 정수값을 사용하므로 8비트\n",
    "c"
   ]
  },
  {
   "cell_type": "code",
   "execution_count": 23,
   "id": "e904b316-3359-451e-aa32-05708623ae92",
   "metadata": {},
   "outputs": [
    {
     "data": {
      "text/plain": [
       "array([[1, 1, 1],\n",
       "       [1, 1, 1]], dtype=int16)"
      ]
     },
     "execution_count": 23,
     "metadata": {},
     "output_type": "execute_result"
    }
   ],
   "source": [
    "d = np.ones((2,3), dtype=np.int16)\n",
    "d # 픽셀이 6개 (1로 구성)"
   ]
  },
  {
   "cell_type": "code",
   "execution_count": 24,
   "id": "a35271fd-93d6-4a05-8103-186bf683a786",
   "metadata": {},
   "outputs": [
    {
     "data": {
      "text/plain": [
       "array([[[255, 255, 255],\n",
       "        [255, 255, 255],\n",
       "        [255, 255, 255],\n",
       "        [255, 255, 255]],\n",
       "\n",
       "       [[255, 255, 255],\n",
       "        [255, 255, 255],\n",
       "        [255, 255, 255],\n",
       "        [255, 255, 255]]], dtype=uint8)"
      ]
     },
     "execution_count": 24,
     "metadata": {},
     "output_type": "execute_result"
    }
   ],
   "source": [
    "e = np.full((2,4,3), 255, dtype=np.uint8) # 컬러 이미지는 하나의 픽셀이 RGB값\n",
    "e # 픽셀이 8개 ([255, 255, 255]로 구성)"
   ]
  },
  {
   "cell_type": "code",
   "execution_count": 48,
   "id": "5fbdc3da-85d4-493e-8d30-2506d3000854",
   "metadata": {},
   "outputs": [
    {
     "data": {
      "text/plain": [
       "array([[[187, 132,  87],\n",
       "        [187, 132,  87],\n",
       "        [187, 132,  87],\n",
       "        ...,\n",
       "        [161,  94,  55],\n",
       "        [161,  94,  55],\n",
       "        [161,  94,  55]],\n",
       "\n",
       "       [[187, 132,  87],\n",
       "        [187, 132,  87],\n",
       "        [187, 132,  87],\n",
       "        ...,\n",
       "        [161,  94,  55],\n",
       "        [161,  94,  55],\n",
       "        [161,  94,  55]],\n",
       "\n",
       "       [[187, 132,  87],\n",
       "        [187, 132,  87],\n",
       "        [187, 132,  87],\n",
       "        ...,\n",
       "        [161,  94,  55],\n",
       "        [161,  94,  55],\n",
       "        [161,  94,  55]],\n",
       "\n",
       "       ...,\n",
       "\n",
       "       [[ 51,  64,  56],\n",
       "        [ 51,  64,  56],\n",
       "        [ 42,  55,  47],\n",
       "        ...,\n",
       "        [145, 149, 150],\n",
       "        [162, 166, 167],\n",
       "        [161, 165, 166]],\n",
       "\n",
       "       [[ 31,  50,  41],\n",
       "        [ 35,  56,  47],\n",
       "        [ 28,  53,  43],\n",
       "        ...,\n",
       "        [152, 155, 159],\n",
       "        [163, 166, 170],\n",
       "        [155, 158, 162]],\n",
       "\n",
       "       [[ 22,  46,  36],\n",
       "        [ 16,  43,  33],\n",
       "        [ 19,  51,  40],\n",
       "        ...,\n",
       "        [151, 154, 159],\n",
       "        [147, 150, 155],\n",
       "        [157, 160, 165]]], shape=(300, 400, 3), dtype=uint8)"
      ]
     },
     "execution_count": 48,
     "metadata": {},
     "output_type": "execute_result"
    }
   ],
   "source": [
    "import cv2\n",
    "img = cv2.imread('images/read_color.jpg')\n",
    "img"
   ]
  },
  {
   "cell_type": "code",
   "execution_count": 108,
   "id": "96f2c9c9-06e3-4a71-b2b8-d9eb0d2f5148",
   "metadata": {},
   "outputs": [
    {
     "data": {
      "text/plain": [
       "array([[[0, 0, 0],\n",
       "        [0, 0, 0],\n",
       "        [0, 0, 0],\n",
       "        ...,\n",
       "        [0, 0, 0],\n",
       "        [0, 0, 0],\n",
       "        [0, 0, 0]],\n",
       "\n",
       "       [[0, 0, 0],\n",
       "        [0, 0, 0],\n",
       "        [0, 0, 0],\n",
       "        ...,\n",
       "        [0, 0, 0],\n",
       "        [0, 0, 0],\n",
       "        [0, 0, 0]],\n",
       "\n",
       "       [[0, 0, 0],\n",
       "        [0, 0, 0],\n",
       "        [0, 0, 0],\n",
       "        ...,\n",
       "        [0, 0, 0],\n",
       "        [0, 0, 0],\n",
       "        [0, 0, 0]],\n",
       "\n",
       "       ...,\n",
       "\n",
       "       [[0, 0, 0],\n",
       "        [0, 0, 0],\n",
       "        [0, 0, 0],\n",
       "        ...,\n",
       "        [0, 0, 0],\n",
       "        [0, 0, 0],\n",
       "        [0, 0, 0]],\n",
       "\n",
       "       [[0, 0, 0],\n",
       "        [0, 0, 0],\n",
       "        [0, 0, 0],\n",
       "        ...,\n",
       "        [0, 0, 0],\n",
       "        [0, 0, 0],\n",
       "        [0, 0, 0]],\n",
       "\n",
       "       [[0, 0, 0],\n",
       "        [0, 0, 0],\n",
       "        [0, 0, 0],\n",
       "        ...,\n",
       "        [0, 0, 0],\n",
       "        [0, 0, 0],\n",
       "        [0, 0, 0]]], shape=(300, 400, 3), dtype=uint8)"
      ]
     },
     "execution_count": 108,
     "metadata": {},
     "output_type": "execute_result"
    }
   ],
   "source": [
    "a = np.empty_like(img) # 배열의 크기만 같고 내용은 무작위 값으로 들어간다.\n",
    "a "
   ]
  },
  {
   "cell_type": "code",
   "execution_count": 56,
   "id": "b6c61e3a-a840-43ec-a5f7-22489f3e8aa8",
   "metadata": {},
   "outputs": [
    {
     "data": {
      "text/plain": [
       "array([[[0, 0, 0],\n",
       "        [0, 0, 0],\n",
       "        [0, 0, 0],\n",
       "        ...,\n",
       "        [0, 0, 0],\n",
       "        [0, 0, 0],\n",
       "        [0, 0, 0]],\n",
       "\n",
       "       [[0, 0, 0],\n",
       "        [0, 0, 0],\n",
       "        [0, 0, 0],\n",
       "        ...,\n",
       "        [0, 0, 0],\n",
       "        [0, 0, 0],\n",
       "        [0, 0, 0]],\n",
       "\n",
       "       [[0, 0, 0],\n",
       "        [0, 0, 0],\n",
       "        [0, 0, 0],\n",
       "        ...,\n",
       "        [0, 0, 0],\n",
       "        [0, 0, 0],\n",
       "        [0, 0, 0]],\n",
       "\n",
       "       ...,\n",
       "\n",
       "       [[0, 0, 0],\n",
       "        [0, 0, 0],\n",
       "        [0, 0, 0],\n",
       "        ...,\n",
       "        [0, 0, 0],\n",
       "        [0, 0, 0],\n",
       "        [0, 0, 0]],\n",
       "\n",
       "       [[0, 0, 0],\n",
       "        [0, 0, 0],\n",
       "        [0, 0, 0],\n",
       "        ...,\n",
       "        [0, 0, 0],\n",
       "        [0, 0, 0],\n",
       "        [0, 0, 0]],\n",
       "\n",
       "       [[0, 0, 0],\n",
       "        [0, 0, 0],\n",
       "        [0, 0, 0],\n",
       "        ...,\n",
       "        [0, 0, 0],\n",
       "        [0, 0, 0],\n",
       "        [0, 0, 0]]], shape=(300, 400, 3), dtype=uint8)"
      ]
     },
     "execution_count": 56,
     "metadata": {},
     "output_type": "execute_result"
    }
   ],
   "source": [
    "b = np.zeros_like(img)\n",
    "b"
   ]
  },
  {
   "cell_type": "code",
   "execution_count": 28,
   "id": "0ad90561-296b-44ed-a076-76ce00b7c110",
   "metadata": {},
   "outputs": [
    {
     "name": "stdout",
     "output_type": "stream",
     "text": [
      "(300, 400, 3)\n",
      "(300, 400, 3)\n",
      "(300, 400, 3)\n"
     ]
    }
   ],
   "source": [
    "print(img.shape)\n",
    "print(a.shape)\n",
    "print(b.shape)"
   ]
  },
  {
   "cell_type": "code",
   "execution_count": 32,
   "id": "ec82d15a-1493-4c01-bcfa-60179580bc8c",
   "metadata": {},
   "outputs": [
    {
     "data": {
      "text/plain": [
       "array([0, 1, 2, 3, 4])"
      ]
     },
     "execution_count": 32,
     "metadata": {},
     "output_type": "execute_result"
    }
   ],
   "source": [
    "a = np.arange(5)\n",
    "a"
   ]
  },
  {
   "cell_type": "code",
   "execution_count": 33,
   "id": "65cf2209-4855-4526-b814-481f7eb30e9d",
   "metadata": {},
   "outputs": [
    {
     "data": {
      "text/plain": [
       "array([0., 1., 2., 3., 4.])"
      ]
     },
     "execution_count": 33,
     "metadata": {},
     "output_type": "execute_result"
    }
   ],
   "source": [
    "b = np.arange(5.0)\n",
    "b"
   ]
  },
  {
   "cell_type": "code",
   "execution_count": 34,
   "id": "5fad712e-f1df-44aa-97f2-1d7f182e09fa",
   "metadata": {},
   "outputs": [
    {
     "data": {
      "text/plain": [
       "array([3, 5, 7])"
      ]
     },
     "execution_count": 34,
     "metadata": {},
     "output_type": "execute_result"
    }
   ],
   "source": [
    "c = np.arange(3,9,2) # range가 아닌 arange로 사용 - 시작, 끝, 증분\n",
    "c"
   ]
  },
  {
   "cell_type": "code",
   "execution_count": 36,
   "id": "4ebed01a-f679-40f1-95ca-37ec826981f9",
   "metadata": {},
   "outputs": [
    {
     "data": {
      "text/plain": [
       "array([[0.24867284, 0.34065683, 0.17805467],\n",
       "       [0.11916555, 0.02365277, 0.09920544]])"
      ]
     },
     "execution_count": 36,
     "metadata": {},
     "output_type": "execute_result"
    }
   ],
   "source": [
    "d = np.random.rand(2,3) # 0~1 사이값으로 2행3열\n",
    "d"
   ]
  },
  {
   "cell_type": "code",
   "execution_count": 46,
   "id": "0c98f3a9-86bd-4af1-bdd9-9acc18f4640a",
   "metadata": {},
   "outputs": [
    {
     "data": {
      "text/plain": [
       "array([[ 0.6596356 ,  0.01474114,  0.07356135],\n",
       "       [ 0.19922064, -0.13495254, -0.1614902 ]])"
      ]
     },
     "execution_count": 46,
     "metadata": {},
     "output_type": "execute_result"
    }
   ],
   "source": [
    "e = np.random.randn(2,3) # 표준정규분포(평균:0, 분산:1)를 따르는 난수로 2행3열 - 분산이 1이므로 음수값 가능\n",
    "e"
   ]
  },
  {
   "cell_type": "code",
   "execution_count": 47,
   "id": "b096e60d-0997-4466-be12-9a1ad5e27cf3",
   "metadata": {},
   "outputs": [
    {
     "data": {
      "text/plain": [
       "array([[ 43, 130, 228],\n",
       "       [178, 255, 249],\n",
       "       [183, 114,   1]])"
      ]
     },
     "execution_count": 47,
     "metadata": {},
     "output_type": "execute_result"
    }
   ],
   "source": [
    "f = np.random.randint(0,256,(3,3)) # 시작, 끝, 3행3열 정수값 - 끝값은 포함되지 않는다.(256은 제외)\n",
    "f"
   ]
  },
  {
   "cell_type": "markdown",
   "id": "f33e9fc9-3b43-4b5e-8b79-a3d6c397fe78",
   "metadata": {},
   "source": [
    "### 2.4 배열 속성 변경"
   ]
  },
  {
   "cell_type": "code",
   "execution_count": 79,
   "id": "45569daf-ff6e-4c01-9669-ba5b18acac9c",
   "metadata": {},
   "outputs": [
    {
     "data": {
      "text/plain": [
       "array([0, 1, 2, 3, 4])"
      ]
     },
     "execution_count": 79,
     "metadata": {},
     "output_type": "execute_result"
    }
   ],
   "source": [
    "a = np.arange(5)\n",
    "a"
   ]
  },
  {
   "cell_type": "code",
   "execution_count": 80,
   "id": "e1eb7b65-d730-4641-8570-54c8d1f67101",
   "metadata": {},
   "outputs": [
    {
     "data": {
      "text/plain": [
       "array([0., 1., 2., 3., 4.])"
      ]
     },
     "execution_count": 80,
     "metadata": {},
     "output_type": "execute_result"
    }
   ],
   "source": [
    "b = a.astype(np.float64) # 자료형의 스트링을 써도 된다. 'float64' - 새로운 메모리 할당\n",
    "b"
   ]
  },
  {
   "cell_type": "code",
   "execution_count": 82,
   "id": "0f9047e1-6b6f-4529-804c-695d2214dbfa",
   "metadata": {},
   "outputs": [
    {
     "data": {
      "text/plain": [
       "array([0, 1, 2, 3, 4], dtype=uint8)"
      ]
     },
     "execution_count": 82,
     "metadata": {},
     "output_type": "execute_result"
    }
   ],
   "source": [
    "c = np.uint8(b) # dtype 함수를 사용할 수도 있다.\n",
    "c"
   ]
  },
  {
   "cell_type": "code",
   "execution_count": 83,
   "id": "36e77b36-65f1-41bf-baef-012dbc0e92dc",
   "metadata": {},
   "outputs": [
    {
     "data": {
      "text/plain": [
       "array([0, 1, 2, 3, 4, 5])"
      ]
     },
     "execution_count": 83,
     "metadata": {},
     "output_type": "execute_result"
    }
   ],
   "source": [
    "a = np.arange(6) # 바꾸기 전과 후의 요소의 수가 값아야 한다.\n",
    "a"
   ]
  },
  {
   "cell_type": "code",
   "execution_count": 84,
   "id": "7ae5ac60-945d-4801-9d51-c899249d2308",
   "metadata": {},
   "outputs": [
    {
     "data": {
      "text/plain": [
       "array([[0, 1, 2],\n",
       "       [3, 4, 5]])"
      ]
     },
     "execution_count": 84,
     "metadata": {},
     "output_type": "execute_result"
    }
   ],
   "source": [
    "b = a.reshape(2,3)\n",
    "b"
   ]
  },
  {
   "cell_type": "code",
   "execution_count": 85,
   "id": "83fdc0be-f893-4d89-a9e3-d97a73c5c506",
   "metadata": {},
   "outputs": [
    {
     "data": {
      "text/plain": [
       "array([[0, 1, 2],\n",
       "       [3, 4, 5]])"
      ]
     },
     "execution_count": 85,
     "metadata": {},
     "output_type": "execute_result"
    }
   ],
   "source": [
    "c = np.reshape(a, (2,3))\n",
    "c"
   ]
  },
  {
   "cell_type": "code",
   "execution_count": 86,
   "id": "494564a4-ec7d-4c40-9b13-3e3fcbb075c7",
   "metadata": {},
   "outputs": [
    {
     "data": {
      "text/plain": [
       "array([[ 0,  1,  2,  3,  4,  5,  6,  7,  8,  9, 10, 11, 12, 13, 14, 15,\n",
       "        16, 17, 18, 19, 20, 21, 22, 23, 24, 25, 26, 27, 28, 29, 30, 31,\n",
       "        32, 33, 34, 35, 36, 37, 38, 39, 40, 41, 42, 43, 44, 45, 46, 47,\n",
       "        48, 49],\n",
       "       [50, 51, 52, 53, 54, 55, 56, 57, 58, 59, 60, 61, 62, 63, 64, 65,\n",
       "        66, 67, 68, 69, 70, 71, 72, 73, 74, 75, 76, 77, 78, 79, 80, 81,\n",
       "        82, 83, 84, 85, 86, 87, 88, 89, 90, 91, 92, 93, 94, 95, 96, 97,\n",
       "        98, 99]])"
      ]
     },
     "execution_count": 86,
     "metadata": {},
     "output_type": "execute_result"
    }
   ],
   "source": [
    "d = np.arange(100).reshape(2, -1) # -1을 사용하면 요소수 계산을 하지 않아도 됨. (-1은 나머지 차원에 맞춰서 넣어줌, 1번만 사용 가능)\n",
    "d"
   ]
  },
  {
   "cell_type": "code",
   "execution_count": 87,
   "id": "ef5464b5-0a28-4d20-a2dd-28220b30fdb2",
   "metadata": {},
   "outputs": [
    {
     "data": {
      "text/plain": [
       "array([[ 0,  1,  2,  3,  4],\n",
       "       [ 5,  6,  7,  8,  9],\n",
       "       [10, 11, 12, 13, 14],\n",
       "       [15, 16, 17, 18, 19],\n",
       "       [20, 21, 22, 23, 24],\n",
       "       [25, 26, 27, 28, 29],\n",
       "       [30, 31, 32, 33, 34],\n",
       "       [35, 36, 37, 38, 39],\n",
       "       [40, 41, 42, 43, 44],\n",
       "       [45, 46, 47, 48, 49],\n",
       "       [50, 51, 52, 53, 54],\n",
       "       [55, 56, 57, 58, 59],\n",
       "       [60, 61, 62, 63, 64],\n",
       "       [65, 66, 67, 68, 69],\n",
       "       [70, 71, 72, 73, 74],\n",
       "       [75, 76, 77, 78, 79],\n",
       "       [80, 81, 82, 83, 84],\n",
       "       [85, 86, 87, 88, 89],\n",
       "       [90, 91, 92, 93, 94],\n",
       "       [95, 96, 97, 98, 99]])"
      ]
     },
     "execution_count": 87,
     "metadata": {},
     "output_type": "execute_result"
    }
   ],
   "source": [
    "e = np.arange(100).reshape(-1, 5)\n",
    "e"
   ]
  },
  {
   "cell_type": "code",
   "execution_count": 88,
   "id": "96879749-6830-41aa-a867-5b51231e1c5f",
   "metadata": {},
   "outputs": [
    {
     "data": {
      "text/plain": [
       "array([[0., 0., 0.],\n",
       "       [0., 0., 0.]])"
      ]
     },
     "execution_count": 88,
     "metadata": {},
     "output_type": "execute_result"
    }
   ],
   "source": [
    "a = np.zeros((2,3))\n",
    "a"
   ]
  },
  {
   "cell_type": "code",
   "execution_count": 89,
   "id": "febd6827-a170-478d-a395-36cdf535ad46",
   "metadata": {},
   "outputs": [
    {
     "data": {
      "text/plain": [
       "array([0., 0., 0., 0., 0., 0.])"
      ]
     },
     "execution_count": 89,
     "metadata": {},
     "output_type": "execute_result"
    }
   ],
   "source": [
    "b = a.reshape((6,)) # 요소의 총 개수를 세어서 입력해야 함.\n",
    "b"
   ]
  },
  {
   "cell_type": "code",
   "execution_count": 90,
   "id": "f59549a7-5e26-42e3-8680-fea0b6045286",
   "metadata": {},
   "outputs": [
    {
     "data": {
      "text/plain": [
       "array([0., 0., 0., 0., 0., 0.])"
      ]
     },
     "execution_count": 90,
     "metadata": {},
     "output_type": "execute_result"
    }
   ],
   "source": [
    "c = a.reshape(-1) # 요소의 수를 셀 필요없이 무조건 1차원으로 변경\n",
    "c"
   ]
  },
  {
   "cell_type": "code",
   "execution_count": 91,
   "id": "7fb3249e-9a6b-422b-956f-b66e5449b22a",
   "metadata": {},
   "outputs": [
    {
     "data": {
      "text/plain": [
       "array([0., 0., 0., 0., 0., 0.])"
      ]
     },
     "execution_count": 91,
     "metadata": {},
     "output_type": "execute_result"
    }
   ],
   "source": [
    "d = np.ravel(a) # 요소의 수를 셀 필요없음. 현재 차원에 상관없이 1차원으로 변경\n",
    "d"
   ]
  },
  {
   "cell_type": "markdown",
   "id": "bfdd7510-a90b-4e69-8663-98f1dfd7e166",
   "metadata": {},
   "source": [
    "### 2.5 브로드캐스팅 연산"
   ]
  },
  {
   "cell_type": "code",
   "execution_count": 92,
   "id": "d84fd659-6f3e-4a27-9e8d-5ca62de9ec8d",
   "metadata": {},
   "outputs": [
    {
     "data": {
      "text/plain": [
       "array([0, 1, 2, 3, 4])"
      ]
     },
     "execution_count": 92,
     "metadata": {},
     "output_type": "execute_result"
    }
   ],
   "source": [
    "a = np.arange(5)\n",
    "a"
   ]
  },
  {
   "cell_type": "code",
   "execution_count": 93,
   "id": "9198de67-345a-4b35-9248-a63e366892a8",
   "metadata": {},
   "outputs": [
    {
     "data": {
      "text/plain": [
       "array([5, 6, 7, 8, 9])"
      ]
     },
     "execution_count": 93,
     "metadata": {},
     "output_type": "execute_result"
    }
   ],
   "source": [
    "a + 5"
   ]
  },
  {
   "cell_type": "code",
   "execution_count": 94,
   "id": "9e3f5677-0bbc-4089-a4fb-b28bc1edbf94",
   "metadata": {},
   "outputs": [
    {
     "data": {
      "text/plain": [
       "array([ 0,  1,  4,  9, 16])"
      ]
     },
     "execution_count": 94,
     "metadata": {},
     "output_type": "execute_result"
    }
   ],
   "source": [
    "a ** 2"
   ]
  },
  {
   "cell_type": "code",
   "execution_count": 95,
   "id": "466c0786-ca99-4212-a811-74f77e8e4d2e",
   "metadata": {},
   "outputs": [
    {
     "data": {
      "text/plain": [
       "array([[0, 1, 2],\n",
       "       [3, 4, 5]])"
      ]
     },
     "execution_count": 95,
     "metadata": {},
     "output_type": "execute_result"
    }
   ],
   "source": [
    "b = np.arange(6).reshape(2,-1)\n",
    "b"
   ]
  },
  {
   "cell_type": "code",
   "execution_count": 96,
   "id": "2b732a52-ba85-499f-baa5-867be929f151",
   "metadata": {},
   "outputs": [
    {
     "data": {
      "text/plain": [
       "array([[ 0,  2,  4],\n",
       "       [ 6,  8, 10]])"
      ]
     },
     "execution_count": 96,
     "metadata": {},
     "output_type": "execute_result"
    }
   ],
   "source": [
    "b * 2"
   ]
  },
  {
   "cell_type": "code",
   "execution_count": 97,
   "id": "a3bcd647-b047-48a2-bdce-62fdab34dd3a",
   "metadata": {},
   "outputs": [
    {
     "data": {
      "text/plain": [
       "array([False, False, False,  True,  True])"
      ]
     },
     "execution_count": 97,
     "metadata": {},
     "output_type": "execute_result"
    }
   ],
   "source": [
    "a > 2 # 비교연산도 가능 (모든 원소가 2보다 큰지 확인)"
   ]
  },
  {
   "cell_type": "code",
   "execution_count": 99,
   "id": "34fdb5b5-c006-4a0e-946b-a0f2232e7950",
   "metadata": {},
   "outputs": [
    {
     "name": "stdout",
     "output_type": "stream",
     "text": [
      "[[[ 0  1  2  3]\n",
      "  [ 4  5  6  7]\n",
      "  [ 8  9 10 11]]\n",
      "\n",
      " [[12 13 14 15]\n",
      "  [16 17 18 19]\n",
      "  [20 21 22 23]]]\n",
      "[[ 0  1  2  3]\n",
      " [ 4  5  6  7]\n",
      " [ 8  9 10 11]]\n"
     ]
    }
   ],
   "source": [
    "a = np.arange(24).reshape(2,3,4)\n",
    "b = np.arange(12).reshape(3,4) # (3,4) --> 2차원이 3차로 변환되어 차원1 추가 (1,3,4) --> (2,3,4) \n",
    "print(a)\n",
    "print(b)"
   ]
  },
  {
   "cell_type": "code",
   "execution_count": 100,
   "id": "acfe16be-32de-4b40-8bc1-3bf82e684d64",
   "metadata": {},
   "outputs": [
    {
     "data": {
      "text/plain": [
       "array([[[ 0,  2,  4,  6],\n",
       "        [ 8, 10, 12, 14],\n",
       "        [16, 18, 20, 22]],\n",
       "\n",
       "       [[12, 14, 16, 18],\n",
       "        [20, 22, 24, 26],\n",
       "        [28, 30, 32, 34]]])"
      ]
     },
     "execution_count": 100,
     "metadata": {},
     "output_type": "execute_result"
    }
   ],
   "source": [
    "a + b"
   ]
  }
 ],
 "metadata": {
  "kernelspec": {
   "display_name": "Python 3 (ipykernel)",
   "language": "python",
   "name": "python3"
  },
  "language_info": {
   "codemirror_mode": {
    "name": "ipython",
    "version": 3
   },
   "file_extension": ".py",
   "mimetype": "text/x-python",
   "name": "python",
   "nbconvert_exporter": "python",
   "pygments_lexer": "ipython3",
   "version": "3.13.5"
  }
 },
 "nbformat": 4,
 "nbformat_minor": 5
}
